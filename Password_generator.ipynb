{
  "nbformat": 4,
  "nbformat_minor": 0,
  "metadata": {
    "colab": {
      "provenance": [],
      "authorship_tag": "ABX9TyPuXq/tnevJ1VkQPMmdKVQw",
      "include_colab_link": true
    },
    "kernelspec": {
      "name": "python3",
      "display_name": "Python 3"
    },
    "language_info": {
      "name": "python"
    }
  },
  "cells": [
    {
      "cell_type": "markdown",
      "metadata": {
        "id": "view-in-github",
        "colab_type": "text"
      },
      "source": [
        "<a href=\"https://colab.research.google.com/github/mukiliderrick/0-binary_tree_node.c/blob/main/Password_generator.ipynb\" target=\"_parent\"><img src=\"https://colab.research.google.com/assets/colab-badge.svg\" alt=\"Open In Colab\"/></a>"
      ]
    },
    {
      "cell_type": "code",
      "execution_count": 1,
      "metadata": {
        "colab": {
          "base_uri": "https://localhost:8080/"
        },
        "id": "GCqELr75NxHl",
        "outputId": "6516a66f-33ee-416b-dff7-2b53ef46ba16"
      },
      "outputs": [
        {
          "output_type": "stream",
          "name": "stdout",
          "text": [
            "Generated password: }`r`K7-(`/Cf[|:m\n"
          ]
        }
      ],
      "source": [
        "import re\n",
        "import secrets\n",
        "import string\n",
        "\n",
        "\n",
        "def generate_password(length=16, nums=1, special_chars=1, uppercase=1, lowercase=1):\n",
        "\n",
        "    # Define the possible characters for the password\n",
        "    letters = string.ascii_letters\n",
        "    digits = string.digits\n",
        "    symbols = string.punctuation\n",
        "\n",
        "    # Combine all characters\n",
        "    all_characters = letters + digits + symbols\n",
        "\n",
        "    while True:\n",
        "        password = ''\n",
        "        # Generate password\n",
        "        for _ in range(length):\n",
        "            password += secrets.choice(all_characters)\n",
        "\n",
        "        constraints = [\n",
        "            (nums, r'\\d'),\n",
        "            (special_chars, fr'[{symbols}]'),\n",
        "            (uppercase, r'[A-Z]'),\n",
        "            (lowercase, r'[a-z]')\n",
        "        ]\n",
        "\n",
        "        # Check constraints\n",
        "        if all(\n",
        "            constraint <= len(re.findall(pattern, password))\n",
        "            for constraint, pattern in constraints\n",
        "        ):\n",
        "            break\n",
        "\n",
        "    return password\n",
        "\n",
        "\n",
        "if __name__ == \"__main__\":\n",
        "    new_password = generate_password()\n",
        "    print('Generated password:', new_password)"
      ]
    }
  ]
}