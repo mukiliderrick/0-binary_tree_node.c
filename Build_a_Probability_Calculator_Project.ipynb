{
  "nbformat": 4,
  "nbformat_minor": 0,
  "metadata": {
    "colab": {
      "provenance": [],
      "authorship_tag": "ABX9TyNraq09XB3fyWUB4W8N7OSP",
      "include_colab_link": true
    },
    "kernelspec": {
      "name": "python3",
      "display_name": "Python 3"
    },
    "language_info": {
      "name": "python"
    }
  },
  "cells": [
    {
      "cell_type": "markdown",
      "metadata": {
        "id": "view-in-github",
        "colab_type": "text"
      },
      "source": [
        "<a href=\"https://colab.research.google.com/github/mukiliderrick/0-binary_tree_node.c/blob/main/Build_a_Probability_Calculator_Project.ipynb\" target=\"_parent\"><img src=\"https://colab.research.google.com/assets/colab-badge.svg\" alt=\"Open In Colab\"/></a>"
      ]
    },
    {
      "cell_type": "code",
      "execution_count": null,
      "metadata": {
        "id": "TcGpJ6a9iFZm"
      },
      "outputs": [],
      "source": [
        "import random\n",
        "\n",
        "def unpack(dictionary):\n",
        "    'Turns dictionary into a list of strings. Duplicates are counted'\n",
        "    result = []\n",
        "    for color, number in dictionary.items():\n",
        "        for i in range(number):\n",
        "            result.append(color)\n",
        "    return result\n",
        "\n",
        "class Hat:\n",
        "    def __init__(self, **kwargs):\n",
        "        self.contents = unpack(kwargs)\n",
        "\n",
        "    def draw(self, balls):\n",
        "        'Randomly removes the number of balls that are given'\n",
        "        picked = []\n",
        "\n",
        "        if balls < len(self.contents):\n",
        "            'Number of balls picked is less than balls in the hat'\n",
        "            for _ in range(balls):\n",
        "                random_pos = random.randint(0, len(self.contents) - 1) # randomly pick a position\n",
        "                picked.append(self.contents.pop(random_pos))\n",
        "        else:\n",
        "            'Number of balls picked is more than the balls in the hat'\n",
        "            picked = self.contents.copy()\n",
        "            self.contents.clear()\n",
        "\n",
        "        return picked # list of picked balls\n",
        "\n",
        "def experiment(hat, expected_balls, num_balls_drawn, num_experiments):\n",
        "    'Run N number of experiments and calculate how many times correct balls were picked'\n",
        "    match = 0\n",
        "    expected_balls_list = unpack(expected_balls)\n",
        "\n",
        "    for _ in range(num_experiments):\n",
        "        'Run this N times'\n",
        "        hat_copy = Hat(**{ball: hat.contents.count(ball) for ball in set(hat.contents)})\n",
        "        drawn_balls = hat_copy.draw(num_balls_drawn)\n",
        "\n",
        "        temp_match = True\n",
        "        for color in expected_balls:\n",
        "            if drawn_balls.count(color) < expected_balls[color]:\n",
        "                temp_match = False\n",
        "                break\n",
        "\n",
        "        if temp_match:\n",
        "            match += 1\n",
        "\n",
        "    return match / num_experiments\n",
        "\n",
        "# Example Usage\n",
        "hat = Hat(red=5, blue=2, green=6)\n",
        "probability = experiment(hat, {\"red\": 2, \"green\": 1}, 5, 1000)\n",
        "print(f\"Probability: {probability}\")\n"
      ]
    }
  ]
}